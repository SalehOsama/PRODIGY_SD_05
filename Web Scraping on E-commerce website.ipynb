{
  "nbformat": 4,
  "nbformat_minor": 0,
  "metadata": {
    "colab": {
      "provenance": [],
      "authorship_tag": "ABX9TyPA+6gUtHzNm6zJFqEMpOCH",
      "include_colab_link": true
    },
    "kernelspec": {
      "name": "python3",
      "display_name": "Python 3"
    },
    "language_info": {
      "name": "python"
    }
  },
  "cells": [
    {
      "cell_type": "markdown",
      "metadata": {
        "id": "view-in-github",
        "colab_type": "text"
      },
      "source": [
        "<a href=\"https://colab.research.google.com/github/SalehOsama/PRODIGY_SD_05/blob/main/Web%20Scraping%20on%20E-commerce%20website.ipynb\" target=\"_parent\"><img src=\"https://colab.research.google.com/assets/colab-badge.svg\" alt=\"Open In Colab\"/></a>"
      ]
    },
    {
      "cell_type": "code",
      "execution_count": 1,
      "metadata": {
        "id": "SkFuZhCj5ymE"
      },
      "outputs": [],
      "source": [
        "import pandas as pd\n",
        "import requests\n",
        "from bs4 import BeautifulSoup"
      ]
    },
    {
      "cell_type": "code",
      "source": [
        "Products= []\n",
        "Product_Price = []\n",
        "Product_Description = []\n",
        "Product_Ratings = []\n",
        "\n",
        "\n",
        "for pg_no in range(1,10):        # Iterating over 1-9 pages\n",
        "\n",
        "  Url = \"https://www.flipkart.com/search?q=mobiles+under+50000&otracker=search&otracker1=search&marketplace=FLIPKART&as-show=on&as=off&as-pos=1&as-type=HISTORY&page=\" + str(pg_no)\n",
        "  #print(Url)\n",
        "  page = requests.get(Url)                                     # Getting content fron Url\n",
        "  soup = BeautifulSoup(page.content, 'html.parser')            # applying html parser on content\n",
        "\n",
        "\n",
        "  Product_box = soup.find('div', class_ = \"_1YokD2 _3Mn1Gg\")   # Selecting a box which contains Products\n",
        "\n",
        "\n",
        "# Grabing the data which we want (Productname, Description, Price and Ratings)\n",
        "\n",
        "  All_Products = Product_box.find_all('div', class_ = \"_4rR01T\")\n",
        "  #print(All_Products)\n",
        "\n",
        "  for product in All_Products:\n",
        "    name = product.text                    # since Product_names comes with Html tag also, we are only fetching text from it\n",
        "    Products.append(name)\n",
        "  print(len(Products))\n",
        "\n",
        "\n",
        "\n",
        "  All_Descriptions = Product_box.find_all('div', class_ = \"fMghEO\")\n",
        "\n",
        "  for des in All_Descriptions:\n",
        "    description = des.text\n",
        "    Product_Description.append(description)\n",
        "  print(len(Product_Description))\n",
        "\n",
        "\n",
        "\n",
        "  All_prices = Product_box.find_all('div', class_ = \"_30jeq3 _1_WHN1\")\n",
        "\n",
        "  for Prc in All_prices:\n",
        "    price = Prc.text\n",
        "    Product_Price.append(price)\n",
        "  print(len(Product_Price))\n",
        "\n",
        "\n",
        "\n",
        "  All_Ratings = Product_box.find_all('span', class_ = \"_1lRcqv\")\n",
        "\n",
        "  for Rt in All_Ratings:\n",
        "    Rating = Rt.text\n",
        "    Product_Ratings.append(Rating)\n",
        "  print(len(Product_Ratings))\n"
      ],
      "metadata": {
        "id": "h3YsdIcuA-XS",
        "colab": {
          "base_uri": "https://localhost:8080/"
        },
        "outputId": "2bb45429-7e90-429d-dd61-2b7d0f7d333a"
      },
      "execution_count": 4,
      "outputs": [
        {
          "output_type": "stream",
          "name": "stdout",
          "text": [
            "24\n",
            "24\n",
            "24\n",
            "24\n",
            "48\n",
            "48\n",
            "48\n",
            "48\n",
            "72\n",
            "72\n",
            "72\n",
            "72\n",
            "96\n",
            "96\n",
            "96\n",
            "96\n",
            "120\n",
            "120\n",
            "120\n",
            "120\n",
            "144\n",
            "144\n",
            "144\n",
            "144\n",
            "168\n",
            "168\n",
            "168\n",
            "168\n",
            "192\n",
            "192\n",
            "192\n",
            "192\n",
            "216\n",
            "216\n",
            "216\n",
            "216\n"
          ]
        }
      ]
    },
    {
      "cell_type": "code",
      "source": [
        "# Creating Dataframe to insert Data into Excel\n",
        "\n",
        "df = pd.DataFrame({\"Product Name\": Products, \"Description\": Product_Description, \"Price\" : Product_Price, \"Rantings\": Product_Ratings})\n",
        "#print(df)\n",
        "\n",
        "\n",
        "# inserting Data into CSV file.\n",
        "df.to_csv(\"Flipkart_webScraping_Data.csv\")"
      ],
      "metadata": {
        "id": "RtEovXAkJVX3"
      },
      "execution_count": 5,
      "outputs": []
    }
  ]
}